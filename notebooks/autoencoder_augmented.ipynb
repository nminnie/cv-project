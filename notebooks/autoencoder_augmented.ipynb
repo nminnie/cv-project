{
 "cells": [
  {
   "cell_type": "code",
   "execution_count": 1,
   "metadata": {},
   "outputs": [
    {
     "name": "stdout",
     "output_type": "stream",
     "text": [
      "Using device: mps\n"
     ]
    }
   ],
   "source": [
    "import os\n",
    "import torch\n",
    "import torch.nn as nn\n",
    "import torch.optim as optim\n",
    "from torchvision import transforms\n",
    "import torchvision.transforms.functional as TF\n",
    "from torch.utils.data import Dataset, DataLoader\n",
    "from PIL import Image\n",
    "import numpy as np\n",
    "import matplotlib.pyplot as plt\n",
    "from tqdm.notebook import tqdm\n",
    "import random\n",
    "from scipy.ndimage import gaussian_filter, map_coordinates\n",
    "import time\n",
    "\n",
    "# Set random seed for reproducibility\n",
    "seed = 100\n",
    "random.seed(seed)\n",
    "np.random.seed(seed)\n",
    "torch.manual_seed(seed)\n",
    "if torch.cuda.is_available():\n",
    "    torch.cuda.manual_seed(seed)\n",
    "    torch.cuda.manual_seed_all(seed)\n",
    "\n",
    "# Device configuration\n",
    "device = torch.device('cuda' if torch.cuda.is_available() else 'mps')\n",
    "print(f\"Using device: {device}\")\n",
    "\n",
    "# Check GPU memory if available\n",
    "if torch.cuda.is_available():\n",
    "    print(f\"GPU: {torch.cuda.get_device_name(0)}\")\n",
    "    print(f\"Total GPU memory: {torch.cuda.get_device_properties(0).total_memory / 1e9:.2f} GB\")\n",
    "    print(f\"Available GPU memory: {torch.cuda.mem_get_info()[0] / 1e9:.2f} GB\")"
   ]
  },
  {
   "cell_type": "markdown",
   "metadata": {},
   "source": [
    "## Load Dataset"
   ]
  },
  {
   "cell_type": "code",
   "execution_count": 2,
   "metadata": {},
   "outputs": [],
   "source": [
    "class PetDataset(Dataset):\n",
    "    def __init__(self, root_dir, split='train', transform=None):\n",
    "        \"\"\"\n",
    "        Args:\n",
    "            root_dir (string): Directory with the dataset.\n",
    "            split (string): 'train', 'val' or 'test' split.\n",
    "            transform (callable, optional): Transform to be applied on the input image and mask.\n",
    "        \"\"\"\n",
    "        self.root_dir = root_dir\n",
    "        self.split = split\n",
    "        self.transform = transform\n",
    "        \n",
    "        # Set paths for images and masks\n",
    "        self.image_dir = os.path.join(root_dir, split, 'color')\n",
    "        self.mask_dir = os.path.join(root_dir, split, 'label')\n",
    "        \n",
    "        # Get all image file names\n",
    "        if os.path.exists(self.image_dir):\n",
    "            self.image_files = sorted([f for f in os.listdir(self.image_dir) \n",
    "                                      if os.path.isfile(os.path.join(self.image_dir, f))])\n",
    "        else:\n",
    "            print(f\"Warning: Image directory {self.image_dir} does not exist\")\n",
    "            self.image_files = []\n",
    "        \n",
    "    def __len__(self):\n",
    "        return len(self.image_files)\n",
    "    \n",
    "    def __getitem__(self, idx):\n",
    "        img_name = self.image_files[idx]\n",
    "        img_path = os.path.join(self.image_dir, img_name)\n",
    "        \n",
    "        # Get corresponding mask file\n",
    "        mask_name = img_name.replace('.jpg', '.png')\n",
    "        if not os.path.exists(os.path.join(self.mask_dir, mask_name)):\n",
    "            # Try with other extensions if needed\n",
    "            mask_name = img_name.split('.')[0] + '.png'\n",
    "            \n",
    "        mask_path = os.path.join(self.mask_dir, mask_name)\n",
    "        \n",
    "        # Load image and mask\n",
    "        image = Image.open(img_path).convert('RGB')\n",
    "        \n",
    "        # Load and process mask\n",
    "        mask = Image.open(mask_path).convert('RGB')\n",
    "        mask_np = np.array(mask)\n",
    "        \n",
    "        # Convert RGB mask to class indices\n",
    "        seg_mask = np.zeros(mask_np.shape[:2], dtype=np.uint8)\n",
    "        \n",
    "        # Background (black)\n",
    "        black_mask = (mask_np[:,:,0] == 0) & (mask_np[:,:,1] == 0) & (mask_np[:,:,2] == 0)\n",
    "        seg_mask[black_mask] = 0\n",
    "        # Cat (red)\n",
    "        red_mask = (mask_np[:,:,0] == 128) & (mask_np[:,:,1] == 0) & (mask_np[:,:,2] == 0)\n",
    "        seg_mask[red_mask] = 1\n",
    "        # Dog (green)\n",
    "        green_mask = (mask_np[:,:,0] == 0) & (mask_np[:,:,1] == 128) & (mask_np[:,:,2] == 0)\n",
    "        seg_mask[green_mask] = 2\n",
    "        # White border (ignore)\n",
    "        white_mask = (mask_np[:,:,0] == 255) & (mask_np[:,:,1] == 255) & (mask_np[:,:,2] == 255)\n",
    "        seg_mask[white_mask] = 255  # Use 255 as ignore index\n",
    "        \n",
    "        # Create a PIL Image from the segmentation mask\n",
    "        seg_mask_pil = Image.fromarray(seg_mask)\n",
    "        \n",
    "        # Apply joint transformations\n",
    "        if self.transform:\n",
    "            image_transformed, seg_mask_transformed = self.transform(image, seg_mask_pil)\n",
    "            return image_transformed, seg_mask_transformed\n",
    "        else:\n",
    "            # Convert to tensor if no transform\n",
    "            image = TF.resize(image, (224, 224))\n",
    "            seg_mask_pil = TF.resize(seg_mask_pil, (224, 224), interpolation=TF.InterpolationMode.NEAREST)\n",
    "            \n",
    "            image_tensor = TF.to_tensor(image)\n",
    "            seg_mask_tensor = torch.from_numpy(np.array(seg_mask_pil)).long()\n",
    "            \n",
    "            return image_tensor, seg_mask_tensor"
   ]
  },
  {
   "cell_type": "code",
   "execution_count": 3,
   "metadata": {},
   "outputs": [
    {
     "name": "stdout",
     "output_type": "stream",
     "text": [
      "Training set size: 11776\n",
      "Validation set size: 736\n",
      "Test set size: 3710\n",
      "Checking dataset contents...\n",
      "Train image count: 11776\n",
      "Checking first few images...\n",
      "  Persian_188_aug1.jpg: 0.01 MB\n",
      "  leonberger_143_aug2.jpg: 0.01 MB\n",
      "  Sphynx_151_aug0.jpg: 0.01 MB\n",
      "  Birman_100_aug0.jpg: 0.01 MB\n",
      "  Abyssinian_142_aug0.jpg: 0.01 MB\n"
     ]
    }
   ],
   "source": [
    "# Set paths and create datasets\n",
    "data_root = '../Dataset_augmented/'\n",
    "\n",
    "# Create datasets - directly use train/val/test splits from the augmented dataset\n",
    "train_dataset = PetDataset(data_root, 'train')\n",
    "val_dataset = PetDataset(data_root, 'val')\n",
    "test_dataset = PetDataset(data_root, 'test')\n",
    "\n",
    "# Print dataset sizes\n",
    "print(f\"Training set size: {len(train_dataset)}\")\n",
    "print(f\"Validation set size: {len(val_dataset)}\")\n",
    "print(f\"Test set size: {len(test_dataset)}\")\n",
    "\n",
    "print(f\"Checking dataset contents...\")\n",
    "train_dir = os.path.join(data_root, 'train', 'color')\n",
    "print(f\"Train image count: {len(os.listdir(train_dir))}\")\n",
    "print(f\"Checking first few images...\")\n",
    "for i, f in enumerate(os.listdir(train_dir)[:5]):\n",
    "    path = os.path.join(train_dir, f)\n",
    "    size = os.path.getsize(path) / (1024*1024)  # Size in MB\n",
    "    print(f\"  {f}: {size:.2f} MB\")\n",
    "\n",
    "# Create dataloaders\n",
    "batch_size = 64\n",
    "num_workers = 0 # Use more workers for GPU training\n",
    "\n",
    "train_loader = DataLoader(train_dataset, batch_size=batch_size, shuffle=True, num_workers=num_workers, pin_memory=True)\n",
    "val_loader = DataLoader(val_dataset, batch_size=batch_size, shuffle=False, num_workers=num_workers, pin_memory=True)\n",
    "test_loader = DataLoader(test_dataset, batch_size=batch_size, shuffle=False, num_workers=num_workers, pin_memory=True)"
   ]
  },
  {
   "cell_type": "markdown",
   "metadata": {},
   "source": [
    "## Define Autoencoder"
   ]
  },
  {
   "cell_type": "code",
   "execution_count": 4,
   "metadata": {},
   "outputs": [],
   "source": [
    "class Encoder(nn.Module):\n",
    "    def __init__(self, latent_dim=256):\n",
    "        super(Encoder, self).__init__()\n",
    "        self.encoder = nn.Sequential(\n",
    "            # Input: (3, 128, 128)\n",
    "            nn.Conv2d(3, 32, kernel_size=3, stride=1, padding=1),\n",
    "            nn.BatchNorm2d(32),\n",
    "            nn.ReLU(inplace=True),\n",
    "            nn.MaxPool2d(kernel_size=2, stride=2),  # (32, 64, 64)\n",
    "            \n",
    "            nn.Conv2d(32, 64, kernel_size=3, stride=1, padding=1),\n",
    "            nn.BatchNorm2d(64),\n",
    "            nn.ReLU(inplace=True),\n",
    "            nn.MaxPool2d(kernel_size=2, stride=2),  # (64, 32, 32)\n",
    "            \n",
    "            nn.Conv2d(64, 128, kernel_size=3, stride=1, padding=1),\n",
    "            nn.BatchNorm2d(128),\n",
    "            nn.ReLU(inplace=True),\n",
    "            nn.MaxPool2d(kernel_size=2, stride=2),  # (128, 16, 16)\n",
    "            \n",
    "            nn.Conv2d(128, 256, kernel_size=3, stride=1, padding=1),\n",
    "            nn.BatchNorm2d(256),\n",
    "            nn.ReLU(inplace=True),\n",
    "            nn.MaxPool2d(kernel_size=2, stride=2),  # (256, 8, 8)\n",
    "            \n",
    "            nn.Conv2d(256, latent_dim, kernel_size=3, stride=1, padding=1),\n",
    "            nn.BatchNorm2d(latent_dim),\n",
    "            nn.ReLU(inplace=True),\n",
    "            nn.MaxPool2d(kernel_size=2, stride=2),  # (latent_dim, 4, 4)\n",
    "        )\n",
    "        \n",
    "    def forward(self, x):\n",
    "        return self.encoder(x)\n",
    "\n",
    "\n",
    "class Decoder(nn.Module):\n",
    "    def __init__(self, latent_dim=256):\n",
    "        super(Decoder, self).__init__()\n",
    "        self.decoder = nn.Sequential(\n",
    "            # Input: (latent_dim, 4, 4)\n",
    "            nn.ConvTranspose2d(latent_dim, 256, kernel_size=4, stride=2, padding=1),  # (256, 8, 8)\n",
    "            nn.BatchNorm2d(256),\n",
    "            nn.ReLU(inplace=True),\n",
    "            \n",
    "            nn.ConvTranspose2d(256, 128, kernel_size=4, stride=2, padding=1),  # (128, 16, 16)\n",
    "            nn.BatchNorm2d(128),\n",
    "            nn.ReLU(inplace=True),\n",
    "            \n",
    "            nn.ConvTranspose2d(128, 64, kernel_size=4, stride=2, padding=1),  # (64, 32, 32)\n",
    "            nn.BatchNorm2d(64),\n",
    "            nn.ReLU(inplace=True),\n",
    "            \n",
    "            nn.ConvTranspose2d(64, 32, kernel_size=4, stride=2, padding=1),  # (32, 64, 64)\n",
    "            nn.BatchNorm2d(32),\n",
    "            nn.ReLU(inplace=True),\n",
    "            \n",
    "            nn.ConvTranspose2d(32, 3, kernel_size=4, stride=2, padding=1),  # (3, 128, 128)\n",
    "            nn.Sigmoid()  # Output values between 0 and 1\n",
    "        )\n",
    "        \n",
    "    def forward(self, x):\n",
    "        return self.decoder(x)\n",
    "\n",
    "\n",
    "class Autoencoder(nn.Module):\n",
    "    def __init__(self, latent_dim=256):\n",
    "        super(Autoencoder, self).__init__()\n",
    "        self.encoder = Encoder(latent_dim)\n",
    "        self.decoder = Decoder(latent_dim)\n",
    "        \n",
    "    def forward(self, x):\n",
    "        latent = self.encoder(x)\n",
    "        reconstructed = self.decoder(latent)\n",
    "        return reconstructed"
   ]
  },
  {
   "cell_type": "code",
   "execution_count": 5,
   "metadata": {},
   "outputs": [],
   "source": [
    "def visualize_reconstructions(model, data_loader, device, run_path, epoch):\n",
    "    model.eval()\n",
    "    with torch.no_grad():\n",
    "        # Get a batch of images\n",
    "        images, _ = next(iter(data_loader))\n",
    "        images = images.to(device)\n",
    "        \n",
    "        # Get reconstructions\n",
    "        reconstructed = model(images)\n",
    "        \n",
    "        # Move tensors to CPU and convert to numpy arrays\n",
    "        images = images.cpu().numpy()\n",
    "        reconstructed = reconstructed.cpu().numpy()\n",
    "        \n",
    "        # Plot a few examples\n",
    "        fig, axes = plt.subplots(2, 5, figsize=(15, 6))\n",
    "        \n",
    "        for i in range(5):\n",
    "            # Original images in top row\n",
    "            axes[0, i].imshow(np.transpose(images[i], (1, 2, 0)))\n",
    "            axes[0, i].set_title('Original')\n",
    "            axes[0, i].axis('off')\n",
    "            \n",
    "            # Reconstructed images in bottom row\n",
    "            axes[1, i].imshow(np.transpose(reconstructed[i], (1, 2, 0)))\n",
    "            axes[1, i].set_title('Reconstructed')\n",
    "            axes[1, i].axis('off')\n",
    "        \n",
    "        plt.tight_layout()\n",
    "        plt.savefig(f'{run_path}/reconstruction_epoch_{epoch+1}.png')\n",
    "        plt.close()"
   ]
  },
  {
   "cell_type": "code",
   "execution_count": 6,
   "metadata": {},
   "outputs": [],
   "source": [
    "def train_autoencoder(model, train_loader, val_loader, run_path, num_epochs=10):\n",
    "    model.train()\n",
    "    criterion = nn.MSELoss()\n",
    "    optimizer = optim.Adam(model.parameters(), lr=0.001)\n",
    "    device = next(model.parameters()).device\n",
    "    \n",
    "    train_losses = []\n",
    "    val_losses = []\n",
    "\n",
    "    best_val_loss = float('inf')\n",
    "    \n",
    "    for epoch in range(num_epochs):\n",
    "        model.train()\n",
    "        running_loss = 0.0\n",
    "        \n",
    "        # Training loop\n",
    "        with tqdm(train_loader, desc=f\"Epoch {epoch+1}/{num_epochs}\") as pbar:\n",
    "            for images, _ in pbar:\n",
    "                images = images.to(device)\n",
    "                \n",
    "                # Zero the parameter gradients\n",
    "                optimizer.zero_grad()\n",
    "                \n",
    "                # Forward pass\n",
    "                outputs = model(images)\n",
    "                loss = criterion(outputs, images)\n",
    "                \n",
    "                # Backward pass and optimize\n",
    "                loss.backward()\n",
    "                optimizer.step()\n",
    "                \n",
    "                # Update statistics\n",
    "                running_loss += loss.item() * images.size(0)\n",
    "                pbar.set_postfix(loss=loss.item())\n",
    "        \n",
    "        epoch_loss = running_loss / len(train_loader.dataset)\n",
    "        train_losses.append(epoch_loss)\n",
    "        \n",
    "        # Validation loop\n",
    "        model.eval()\n",
    "        val_loss = 0.0\n",
    "        with torch.no_grad():\n",
    "            for images, _ in val_loader:\n",
    "                images = images.to(device)\n",
    "                outputs = model(images)\n",
    "                loss = criterion(outputs, images)\n",
    "                val_loss += loss.item() * images.size(0)\n",
    "                \n",
    "        val_loss = val_loss / len(val_loader.dataset)\n",
    "        val_losses.append(val_loss)\n",
    "        \n",
    "        print(f\"Epoch {epoch+1}, Train Loss: {epoch_loss:.4f}, Val Loss: {val_loss:.4f}\")\n",
    "        \n",
    "        # Save model if it has the best validation loss so far\n",
    "        if val_loss < best_val_loss:\n",
    "            best_val_loss = val_loss\n",
    "            torch.save(model.state_dict(), f'{run_path}/autoencoder.pth')\n",
    "            print(f\"Saved best autoencoder model with validation loss: {best_val_loss:.4f}\")\n",
    "            \n",
    "        # Visualize some reconstructions\n",
    "        if (epoch + 1) % 5 == 0 or epoch == num_epochs - 1:\n",
    "            visualize_reconstructions(model, val_loader, device, run_path, epoch)\n",
    "\n",
    "    return train_losses, val_losses, best_val_loss"
   ]
  },
  {
   "cell_type": "markdown",
   "metadata": {},
   "source": [
    "## Define Segmentation Model"
   ]
  },
  {
   "cell_type": "code",
   "execution_count": 7,
   "metadata": {},
   "outputs": [],
   "source": [
    "class SegmentationDecoder(nn.Module):\n",
    "    def __init__(self, latent_dim=256, num_classes=3):\n",
    "        super(SegmentationDecoder, self).__init__()\n",
    "        self.decoder = nn.Sequential(\n",
    "            # Input: (latent_dim, 4, 4)\n",
    "            nn.ConvTranspose2d(latent_dim, 256, kernel_size=4, stride=2, padding=1),  # (256, 8, 8)\n",
    "            nn.BatchNorm2d(256),\n",
    "            nn.ReLU(inplace=True),\n",
    "            \n",
    "            nn.ConvTranspose2d(256, 128, kernel_size=4, stride=2, padding=1),  # (128, 16, 16)\n",
    "            nn.BatchNorm2d(128),\n",
    "            nn.ReLU(inplace=True),\n",
    "            \n",
    "            nn.ConvTranspose2d(128, 64, kernel_size=4, stride=2, padding=1),  # (64, 32, 32)\n",
    "            nn.BatchNorm2d(64),\n",
    "            nn.ReLU(inplace=True),\n",
    "            \n",
    "            nn.ConvTranspose2d(64, 32, kernel_size=4, stride=2, padding=1),  # (32, 64, 64)\n",
    "            nn.BatchNorm2d(32),\n",
    "            nn.ReLU(inplace=True),\n",
    "            \n",
    "            nn.ConvTranspose2d(32, num_classes, kernel_size=4, stride=2, padding=1),  # (num_classes, 128, 128)\n",
    "        )\n",
    "        \n",
    "    def forward(self, x):\n",
    "        return self.decoder(x)\n",
    "\n",
    "\n",
    "class SegmentationModel(nn.Module):\n",
    "    def __init__(self, pretrained_encoder, latent_dim, num_classes=3):\n",
    "        super(SegmentationModel, self).__init__()\n",
    "        self.encoder = pretrained_encoder\n",
    "        self.decoder = SegmentationDecoder(latent_dim, num_classes)\n",
    "        \n",
    "        # Freeze the encoder weights\n",
    "        for param in self.encoder.parameters():\n",
    "            param.requires_grad = False\n",
    "            \n",
    "    def forward(self, x):\n",
    "        # Get features from the encoder (ignore latent)\n",
    "        features = self.encoder(x)\n",
    "        # Use these features for segmentation\n",
    "        segmentation = self.decoder(features)\n",
    "        return segmentation"
   ]
  },
  {
   "cell_type": "code",
   "execution_count": 8,
   "metadata": {},
   "outputs": [],
   "source": [
    "def visualize_segmentations(model, data_loader, device, run_path, epoch):\n",
    "    model.eval()\n",
    "    \n",
    "    colors = np.array([\n",
    "        [0, 0, 0],       # Background (black)\n",
    "        [128, 0, 0],     # Cat (red)\n",
    "        [0, 128, 0]      # Dog (green)\n",
    "    ])\n",
    "    \n",
    "    with torch.no_grad():\n",
    "        # Get a batch of images\n",
    "        images, masks = next(iter(data_loader))\n",
    "        images = images.to(device)\n",
    "        masks = masks.cpu().numpy()\n",
    "        \n",
    "        # Get segmentation predictions\n",
    "        outputs = model(images)\n",
    "        preds = torch.argmax(outputs, dim=1).cpu().numpy()\n",
    "        \n",
    "        # Move tensors to CPU and convert to numpy arrays\n",
    "        images = images.cpu().numpy()\n",
    "        \n",
    "        # Plot a few examples\n",
    "        fig, axes = plt.subplots(3, 5, figsize=(15, 9))\n",
    "        \n",
    "        for i in range(5):\n",
    "            # Original images in top row\n",
    "            axes[0, i].imshow(np.transpose(images[i], (1, 2, 0)))\n",
    "            axes[0, i].set_title('Original')\n",
    "            axes[0, i].axis('off')\n",
    "            \n",
    "            # Ground truth masks in middle row\n",
    "            mask_rgb = np.zeros((*masks[i].shape, 3), dtype=np.uint8)\n",
    "            for j in range(3):\n",
    "                mask_rgb[masks[i] == j] = colors[j]\n",
    "            mask_rgb[masks[i] == 255] = [255, 255, 255]  # White for ignore index\n",
    "            axes[1, i].imshow(mask_rgb)\n",
    "            axes[1, i].set_title('Ground Truth')\n",
    "            axes[1, i].axis('off')\n",
    "            \n",
    "            # Predicted masks in bottom row\n",
    "            pred_rgb = np.zeros((*preds[i].shape, 3), dtype=np.uint8)\n",
    "            for j in range(3):\n",
    "                pred_rgb[preds[i] == j] = colors[j]\n",
    "            pred_rgb[masks[i] == 255] = [255, 255, 255]  # White for ignore index\n",
    "            axes[2, i].imshow(pred_rgb)\n",
    "            axes[2, i].set_title('Prediction')\n",
    "            axes[2, i].axis('off')\n",
    "        \n",
    "        plt.tight_layout()\n",
    "        plt.savefig(f'{run_path}/segmentation_epoch_{epoch+1}.png')\n",
    "        plt.close()"
   ]
  },
  {
   "cell_type": "code",
   "execution_count": 9,
   "metadata": {},
   "outputs": [],
   "source": [
    "def train_segmentation(model, train_loader, val_loader, run_path, num_epochs=10):\n",
    "    model.train()\n",
    "    \n",
    "    device = next(model.parameters()).device\n",
    "    cat_weight = 2.1\n",
    "    class_weights = torch.tensor([1.0, cat_weight, 1.0], device=device)\n",
    "    \n",
    "    criterion = nn.CrossEntropyLoss(weight=class_weights, ignore_index=255)  # Ignore white border pixels\n",
    "    optimizer = optim.Adam(model.decoder.parameters(), lr=0.001)  # Only train decoder\n",
    "    \n",
    "    train_losses = []\n",
    "    val_losses = []\n",
    "    \n",
    "    best_val_loss = float('inf')\n",
    "    \n",
    "    for epoch in range(num_epochs):\n",
    "        model.train()\n",
    "        running_loss = 0.0\n",
    "        \n",
    "        # Training loop\n",
    "        with tqdm(train_loader, desc=f\"Epoch {epoch+1}/{num_epochs}\") as pbar:\n",
    "            for images, masks in pbar:\n",
    "                images = images.to(device)\n",
    "                masks = masks.to(device)\n",
    "                \n",
    "                # Zero the parameter gradients\n",
    "                optimizer.zero_grad()\n",
    "                \n",
    "                # Forward pass\n",
    "                outputs = model(images)\n",
    "                loss = criterion(outputs, masks)\n",
    "                \n",
    "                # Backward pass and optimize\n",
    "                loss.backward()\n",
    "                optimizer.step()\n",
    "                \n",
    "                # Update statistics\n",
    "                running_loss += loss.item() * images.size(0)\n",
    "                pbar.set_postfix(loss=loss.item())\n",
    "        \n",
    "        epoch_loss = running_loss / len(train_loader.dataset)\n",
    "        train_losses.append(epoch_loss)\n",
    "        \n",
    "        # Validation loop\n",
    "        model.eval()\n",
    "        val_loss = 0.0\n",
    "        \n",
    "        with torch.no_grad():\n",
    "            for images, masks in val_loader:\n",
    "                images = images.to(device)\n",
    "                masks = masks.to(device)\n",
    "                outputs = model(images)\n",
    "                loss = criterion(outputs, masks)\n",
    "                val_loss += loss.item() * images.size(0)\n",
    "                \n",
    "        val_loss = val_loss / len(val_loader.dataset)\n",
    "        val_losses.append(val_loss)\n",
    "        \n",
    "        print(f\"Epoch {epoch+1}, Train Loss: {epoch_loss:.4f}, Val Loss: {val_loss:.4f}\")\n",
    "        \n",
    "        # Save model if it has the best validation loss\n",
    "        if val_loss < best_val_loss:\n",
    "            best_val_loss = val_loss\n",
    "            torch.save(model.state_dict(), f'{run_path}/segmentation.pth')\n",
    "            print(f\"Saved best segmentation model with validation loss: {best_val_loss:.4f}\")\n",
    "            \n",
    "        # Visualize some segmentations\n",
    "        if (epoch + 1) % 5 == 0 or epoch == num_epochs - 1:\n",
    "            visualize_segmentations(model, val_loader, device, run_path, epoch)\n",
    "            \n",
    "    return train_losses, val_losses, best_val_loss"
   ]
  },
  {
   "cell_type": "markdown",
   "metadata": {},
   "source": [
    "## Evaluation Method"
   ]
  },
  {
   "cell_type": "code",
   "execution_count": 10,
   "metadata": {},
   "outputs": [],
   "source": [
    "def evaluate_model(model, dataloader, device):\n",
    "    \"\"\"\n",
    "    Evaluate the segmentation model.\n",
    "    \n",
    "    Args:\n",
    "        model: segmentation model\n",
    "        dataloader: DataLoader for evaluation data\n",
    "        device: Device to evaluate on\n",
    "        \n",
    "    Returns:\n",
    "        Dictionary of evaluation metrics\n",
    "    \"\"\"\n",
    "    model.eval()\n",
    "    \n",
    "    # Initialize metrics\n",
    "    correct = 0\n",
    "    total = 0\n",
    "    \n",
    "    # Initialize IoU and Dice metrics - one for each class\n",
    "    num_classes = 3  # background (0), cat (1), dog (2)\n",
    "    intersection = torch.zeros(num_classes, device=device)\n",
    "    union = torch.zeros(num_classes, device=device)\n",
    "    dice_intersection = torch.zeros(num_classes, device=device)\n",
    "    dice_sum = torch.zeros(num_classes, device=device)\n",
    "    \n",
    "    with torch.no_grad():\n",
    "        for images, masks in tqdm(dataloader, desc=\"Evaluating\"):\n",
    "            images = images.to(device)\n",
    "            masks = masks.to(device)\n",
    "            \n",
    "            # Get predictions\n",
    "            outputs = model(images)\n",
    "            _, predicted = torch.max(outputs, 1)\n",
    "            \n",
    "            # Calculate accuracy (ignoring white pixels with value 255)\n",
    "            mask = (masks != 255)\n",
    "            correct += (predicted[mask] == masks[mask]).sum().item()\n",
    "            total += mask.sum().item()\n",
    "            \n",
    "            # Calculate IoU and Dice for each class\n",
    "            for cls in range(num_classes):\n",
    "                pred_cls = (predicted == cls) & mask\n",
    "                true_cls = (masks == cls) & mask\n",
    "                \n",
    "                # Intersection and union\n",
    "                intersection[cls] += (pred_cls & true_cls).sum().float()\n",
    "                union[cls] += (pred_cls | true_cls).sum().float()\n",
    "                \n",
    "                # Dice coefficient\n",
    "                dice_intersection[cls] += (pred_cls & true_cls).sum().float()\n",
    "                dice_sum[cls] += pred_cls.sum().float() + true_cls.sum().float()\n",
    "    \n",
    "    # Calculate metrics\n",
    "    accuracy = correct / total if total > 0 else 0\n",
    "    \n",
    "    # Calculate IoU for each class\n",
    "    class_names = [\"background\", \"cat\", \"dog\"]\n",
    "    class_ious = []\n",
    "    class_dice = []\n",
    "    \n",
    "    for cls in range(num_classes):\n",
    "        iou = intersection[cls] / union[cls] if union[cls] > 0 else 0\n",
    "        class_ious.append(iou.item())\n",
    "        \n",
    "        dice = (2 * dice_intersection[cls]) / dice_sum[cls] if dice_sum[cls] > 0 else 0\n",
    "        class_dice.append(dice.item())\n",
    "        \n",
    "        print(f\"Class '{class_names[cls]}': IoU={iou:.4f}, Dice={dice:.4f}\")\n",
    "    \n",
    "    # Calculate mean IoU and Dice\n",
    "    mean_iou = sum(class_ious) / len(class_ious)\n",
    "    mean_dice = sum(class_dice) / len(class_dice)\n",
    "    \n",
    "    print(f\"Pixel Accuracy: {accuracy:.4f}\")\n",
    "    print(f\"Mean IoU: {mean_iou:.4f}\")\n",
    "    print(f\"Mean Dice: {mean_dice:.4f}\")\n",
    "    \n",
    "    return {\n",
    "        \"pixel_accuracy\": accuracy,\n",
    "        \"class_ious\": {class_names[i]: class_ious[i] for i in range(num_classes)},\n",
    "        \"mean_iou\": mean_iou,\n",
    "        \"class_dice\": {class_names[i]: class_dice[i] for i in range(num_classes)},\n",
    "        \"mean_dice\": mean_dice\n",
    "    }"
   ]
  },
  {
   "cell_type": "markdown",
   "metadata": {},
   "source": [
    "## Train & Evaluate"
   ]
  },
  {
   "cell_type": "code",
   "execution_count": 11,
   "metadata": {},
   "outputs": [],
   "source": [
    "def train_pipeline(train_loader, val_loader, test_loader, device, run_path,\n",
    "                   autoencoder_epochs=20, segmentation_epochs=20, latent_dim=256):\n",
    "    \n",
    "    if not os.path.exists(run_path):\n",
    "        os.makedirs(run_path)\n",
    "    \n",
    "    # Train autoencoder\n",
    "    print(\"Training autoencoder...\")\n",
    "    autoencoder = Autoencoder(latent_dim=latent_dim).to(device)\n",
    "    autoencoder_train_losses, autoencoder_val_losses, best_autoencoder_val_loss = train_autoencoder(\n",
    "        autoencoder, train_loader, val_loader, run_path, num_epochs=autoencoder_epochs\n",
    "    )\n",
    "    # Load best autoencoder checkpoint\n",
    "    autoencoder.load_state_dict(torch.load(f'{run_path}/autoencoder.pth', map_location=device))\n",
    "    \n",
    "    # Train segmentation model\n",
    "    print(\"Training segmentation model...\")\n",
    "    segmentation_model = SegmentationModel(autoencoder.encoder, latent_dim=latent_dim, num_classes=3).to(device)\n",
    "    seg_train_losses, seg_val_losses, best_seg_val_loss = train_segmentation(\n",
    "        segmentation_model, train_loader, val_loader, run_path, num_epochs=segmentation_epochs\n",
    "    )\n",
    "    \n",
    "    # Evaluate segmentation model\n",
    "    segmentation_model.load_state_dict(torch.load(f'{run_path}/segmentation.pth'))\n",
    "    \n",
    "    print(\"Validation set metrics:\")\n",
    "    val_metrics = evaluate_model(segmentation_model, val_loader, device)\n",
    "\n",
    "    print(\"Test set metrics:\")\n",
    "    test_metrics = evaluate_model(segmentation_model, test_loader, device)\n",
    "    \n",
    "    # Plot training and validation losses\n",
    "    plt.figure(figsize=(12, 5))\n",
    "    \n",
    "    # Autoencoder loss\n",
    "    plt.subplot(1, 2, 1)\n",
    "    plt.plot(autoencoder_train_losses, label='Train Loss')\n",
    "    plt.plot(autoencoder_val_losses, label='Val Loss')\n",
    "    plt.axhline(y=best_autoencoder_val_loss, color='r', linestyle='--', label=f'Best Val Loss: {best_autoencoder_val_loss:.4f}')\n",
    "    plt.title('Autoencoder Loss')\n",
    "    plt.xlabel('Epoch')\n",
    "    plt.ylabel('Loss')\n",
    "    plt.legend()\n",
    "    \n",
    "    # Segmentation loss\n",
    "    plt.subplot(1, 2, 2)\n",
    "    plt.plot(seg_train_losses, label='Train Loss')\n",
    "    plt.plot(seg_val_losses, label='Val Loss')\n",
    "    plt.axhline(y=best_seg_val_loss, color='r', linestyle='--', label=f'Best Val Loss: {best_seg_val_loss:.4f}')\n",
    "    plt.title('Segmentation Loss')\n",
    "    plt.xlabel('Epoch')\n",
    "    plt.ylabel('Loss')\n",
    "    plt.legend()\n",
    "    \n",
    "    plt.tight_layout()\n",
    "    plt.savefig(f'{run_path}/training_curves.png')\n",
    "\n",
    "    # Save all results to a summary file\n",
    "    with open(f'{run_path}/summary.txt', 'w') as f:\n",
    "        f.write(f\"Autoencoder:\\n\")\n",
    "        f.write(f\"  - Best validation loss: {best_autoencoder_val_loss:.4f}\\n\")\n",
    "        f.write(f\"\\nSegmentation:\\n\")\n",
    "        f.write(f\"  - Best validation loss: {best_seg_val_loss:.4f}\\n\")\n",
    "        f.write(f\"  - Validation set metrics: {val_metrics}\\n\")\n",
    "        f.write(f\"  - Test set metrics: {test_metrics}\\n\")\n",
    "    \n",
    "    return {\n",
    "        'autoencoder_train_losses': autoencoder_train_losses,\n",
    "        'autoencoder_val_losses': autoencoder_val_losses,\n",
    "        'best_autoencoder_val_loss': best_autoencoder_val_loss,\n",
    "        'seg_train_losses': seg_train_losses,\n",
    "        'seg_val_losses': seg_val_losses,\n",
    "        'best_seg_val_loss': best_seg_val_loss,\n",
    "    }"
   ]
  },
  {
   "cell_type": "code",
   "execution_count": 12,
   "metadata": {},
   "outputs": [
    {
     "name": "stdout",
     "output_type": "stream",
     "text": [
      "Training autoencoder...\n"
     ]
    },
    {
     "data": {
      "application/vnd.jupyter.widget-view+json": {
       "model_id": "74a03b36b9d84eae845fc8cc557a2714",
       "version_major": 2,
       "version_minor": 0
      },
      "text/plain": [
       "Epoch 1/20:   0%|          | 0/184 [00:00<?, ?it/s]"
      ]
     },
     "metadata": {},
     "output_type": "display_data"
    },
    {
     "name": "stdout",
     "output_type": "stream",
     "text": [
      "Epoch 1, Train Loss: 0.0212, Val Loss: 0.0132\n",
      "Saved best autoencoder model with validation loss: 0.0132\n"
     ]
    },
    {
     "data": {
      "application/vnd.jupyter.widget-view+json": {
       "model_id": "ef455a495d694d7cac25220aeb13de9f",
       "version_major": 2,
       "version_minor": 0
      },
      "text/plain": [
       "Epoch 2/20:   0%|          | 0/184 [00:00<?, ?it/s]"
      ]
     },
     "metadata": {},
     "output_type": "display_data"
    },
    {
     "name": "stdout",
     "output_type": "stream",
     "text": [
      "Epoch 2, Train Loss: 0.0100, Val Loss: 0.0091\n",
      "Saved best autoencoder model with validation loss: 0.0091\n"
     ]
    },
    {
     "data": {
      "application/vnd.jupyter.widget-view+json": {
       "model_id": "77762fa31a274a32862631a10b17cfce",
       "version_major": 2,
       "version_minor": 0
      },
      "text/plain": [
       "Epoch 3/20:   0%|          | 0/184 [00:00<?, ?it/s]"
      ]
     },
     "metadata": {},
     "output_type": "display_data"
    },
    {
     "name": "stdout",
     "output_type": "stream",
     "text": [
      "Epoch 3, Train Loss: 0.0075, Val Loss: 0.0082\n",
      "Saved best autoencoder model with validation loss: 0.0082\n"
     ]
    },
    {
     "data": {
      "application/vnd.jupyter.widget-view+json": {
       "model_id": "0b3a2e34702849ed8bc44dacb3480d2b",
       "version_major": 2,
       "version_minor": 0
      },
      "text/plain": [
       "Epoch 4/20:   0%|          | 0/184 [00:00<?, ?it/s]"
      ]
     },
     "metadata": {},
     "output_type": "display_data"
    },
    {
     "name": "stdout",
     "output_type": "stream",
     "text": [
      "Epoch 4, Train Loss: 0.0067, Val Loss: 0.0071\n",
      "Saved best autoencoder model with validation loss: 0.0071\n"
     ]
    },
    {
     "data": {
      "application/vnd.jupyter.widget-view+json": {
       "model_id": "5ca6f9d1156a4440a25fc7e48668e933",
       "version_major": 2,
       "version_minor": 0
      },
      "text/plain": [
       "Epoch 5/20:   0%|          | 0/184 [00:00<?, ?it/s]"
      ]
     },
     "metadata": {},
     "output_type": "display_data"
    },
    {
     "name": "stdout",
     "output_type": "stream",
     "text": [
      "Epoch 5, Train Loss: 0.0059, Val Loss: 0.0067\n",
      "Saved best autoencoder model with validation loss: 0.0067\n"
     ]
    },
    {
     "data": {
      "application/vnd.jupyter.widget-view+json": {
       "model_id": "54e3a8e49f4e45868559e2a7fc3cfdc8",
       "version_major": 2,
       "version_minor": 0
      },
      "text/plain": [
       "Epoch 6/20:   0%|          | 0/184 [00:00<?, ?it/s]"
      ]
     },
     "metadata": {},
     "output_type": "display_data"
    },
    {
     "name": "stdout",
     "output_type": "stream",
     "text": [
      "Epoch 6, Train Loss: 0.0054, Val Loss: 0.0059\n",
      "Saved best autoencoder model with validation loss: 0.0059\n"
     ]
    },
    {
     "data": {
      "application/vnd.jupyter.widget-view+json": {
       "model_id": "aedb9b0c59704019a3d18c7f17446ea6",
       "version_major": 2,
       "version_minor": 0
      },
      "text/plain": [
       "Epoch 7/20:   0%|          | 0/184 [00:00<?, ?it/s]"
      ]
     },
     "metadata": {},
     "output_type": "display_data"
    },
    {
     "name": "stdout",
     "output_type": "stream",
     "text": [
      "Epoch 7, Train Loss: 0.0052, Val Loss: 0.0065\n"
     ]
    },
    {
     "data": {
      "application/vnd.jupyter.widget-view+json": {
       "model_id": "4b15a08599214ae39d58e9ae993e676a",
       "version_major": 2,
       "version_minor": 0
      },
      "text/plain": [
       "Epoch 8/20:   0%|          | 0/184 [00:00<?, ?it/s]"
      ]
     },
     "metadata": {},
     "output_type": "display_data"
    },
    {
     "name": "stdout",
     "output_type": "stream",
     "text": [
      "Epoch 8, Train Loss: 0.0049, Val Loss: 0.0053\n",
      "Saved best autoencoder model with validation loss: 0.0053\n"
     ]
    },
    {
     "data": {
      "application/vnd.jupyter.widget-view+json": {
       "model_id": "dbabc2275f5e4de080dd850bea331168",
       "version_major": 2,
       "version_minor": 0
      },
      "text/plain": [
       "Epoch 9/20:   0%|          | 0/184 [00:00<?, ?it/s]"
      ]
     },
     "metadata": {},
     "output_type": "display_data"
    },
    {
     "name": "stdout",
     "output_type": "stream",
     "text": [
      "Epoch 9, Train Loss: 0.0048, Val Loss: 0.0052\n",
      "Saved best autoencoder model with validation loss: 0.0052\n"
     ]
    },
    {
     "data": {
      "application/vnd.jupyter.widget-view+json": {
       "model_id": "c73c92bcbce948eabad8b5e11981ad8c",
       "version_major": 2,
       "version_minor": 0
      },
      "text/plain": [
       "Epoch 10/20:   0%|          | 0/184 [00:00<?, ?it/s]"
      ]
     },
     "metadata": {},
     "output_type": "display_data"
    },
    {
     "name": "stdout",
     "output_type": "stream",
     "text": [
      "Epoch 10, Train Loss: 0.0046, Val Loss: 0.0056\n"
     ]
    },
    {
     "data": {
      "application/vnd.jupyter.widget-view+json": {
       "model_id": "14ee2e4159ae49cbb248428bf849a3b1",
       "version_major": 2,
       "version_minor": 0
      },
      "text/plain": [
       "Epoch 11/20:   0%|          | 0/184 [00:00<?, ?it/s]"
      ]
     },
     "metadata": {},
     "output_type": "display_data"
    },
    {
     "name": "stdout",
     "output_type": "stream",
     "text": [
      "Epoch 11, Train Loss: 0.0044, Val Loss: 0.0087\n"
     ]
    },
    {
     "data": {
      "application/vnd.jupyter.widget-view+json": {
       "model_id": "fc977b3171d64136a1846d228260886b",
       "version_major": 2,
       "version_minor": 0
      },
      "text/plain": [
       "Epoch 12/20:   0%|          | 0/184 [00:00<?, ?it/s]"
      ]
     },
     "metadata": {},
     "output_type": "display_data"
    },
    {
     "name": "stdout",
     "output_type": "stream",
     "text": [
      "Epoch 12, Train Loss: 0.0044, Val Loss: 0.0053\n"
     ]
    },
    {
     "data": {
      "application/vnd.jupyter.widget-view+json": {
       "model_id": "777f088b8e4c422f942f394cee02768d",
       "version_major": 2,
       "version_minor": 0
      },
      "text/plain": [
       "Epoch 13/20:   0%|          | 0/184 [00:00<?, ?it/s]"
      ]
     },
     "metadata": {},
     "output_type": "display_data"
    },
    {
     "name": "stdout",
     "output_type": "stream",
     "text": [
      "Epoch 13, Train Loss: 0.0044, Val Loss: 0.0049\n",
      "Saved best autoencoder model with validation loss: 0.0049\n"
     ]
    },
    {
     "data": {
      "application/vnd.jupyter.widget-view+json": {
       "model_id": "a04e56a708c4483ca7ce642aeea27bdc",
       "version_major": 2,
       "version_minor": 0
      },
      "text/plain": [
       "Epoch 14/20:   0%|          | 0/184 [00:00<?, ?it/s]"
      ]
     },
     "metadata": {},
     "output_type": "display_data"
    },
    {
     "name": "stdout",
     "output_type": "stream",
     "text": [
      "Epoch 14, Train Loss: 0.0042, Val Loss: 0.0050\n"
     ]
    },
    {
     "data": {
      "application/vnd.jupyter.widget-view+json": {
       "model_id": "785172ad619f45e998e120bef1df3395",
       "version_major": 2,
       "version_minor": 0
      },
      "text/plain": [
       "Epoch 15/20:   0%|          | 0/184 [00:00<?, ?it/s]"
      ]
     },
     "metadata": {},
     "output_type": "display_data"
    },
    {
     "name": "stdout",
     "output_type": "stream",
     "text": [
      "Epoch 15, Train Loss: 0.0041, Val Loss: 0.0051\n"
     ]
    },
    {
     "data": {
      "application/vnd.jupyter.widget-view+json": {
       "model_id": "ac49d2e66a624261a31e1120b2317761",
       "version_major": 2,
       "version_minor": 0
      },
      "text/plain": [
       "Epoch 16/20:   0%|          | 0/184 [00:00<?, ?it/s]"
      ]
     },
     "metadata": {},
     "output_type": "display_data"
    },
    {
     "name": "stdout",
     "output_type": "stream",
     "text": [
      "Epoch 16, Train Loss: 0.0040, Val Loss: 0.0050\n"
     ]
    },
    {
     "data": {
      "application/vnd.jupyter.widget-view+json": {
       "model_id": "42ac7929f2634085b7f984b9a74ee51b",
       "version_major": 2,
       "version_minor": 0
      },
      "text/plain": [
       "Epoch 17/20:   0%|          | 0/184 [00:00<?, ?it/s]"
      ]
     },
     "metadata": {},
     "output_type": "display_data"
    },
    {
     "name": "stdout",
     "output_type": "stream",
     "text": [
      "Epoch 17, Train Loss: 0.0040, Val Loss: 0.0049\n",
      "Saved best autoencoder model with validation loss: 0.0049\n"
     ]
    },
    {
     "data": {
      "application/vnd.jupyter.widget-view+json": {
       "model_id": "c678d2c185d64ac1a3eb16c4abeef5f2",
       "version_major": 2,
       "version_minor": 0
      },
      "text/plain": [
       "Epoch 18/20:   0%|          | 0/184 [00:00<?, ?it/s]"
      ]
     },
     "metadata": {},
     "output_type": "display_data"
    },
    {
     "name": "stdout",
     "output_type": "stream",
     "text": [
      "Epoch 18, Train Loss: 0.0039, Val Loss: 0.0046\n",
      "Saved best autoencoder model with validation loss: 0.0046\n"
     ]
    },
    {
     "data": {
      "application/vnd.jupyter.widget-view+json": {
       "model_id": "f529c983880d4d179ad166665e19457b",
       "version_major": 2,
       "version_minor": 0
      },
      "text/plain": [
       "Epoch 19/20:   0%|          | 0/184 [00:00<?, ?it/s]"
      ]
     },
     "metadata": {},
     "output_type": "display_data"
    },
    {
     "name": "stdout",
     "output_type": "stream",
     "text": [
      "Epoch 19, Train Loss: 0.0038, Val Loss: 0.0043\n",
      "Saved best autoencoder model with validation loss: 0.0043\n"
     ]
    },
    {
     "data": {
      "application/vnd.jupyter.widget-view+json": {
       "model_id": "e8403f980f5b42bfbbf562c31c7bb0e9",
       "version_major": 2,
       "version_minor": 0
      },
      "text/plain": [
       "Epoch 20/20:   0%|          | 0/184 [00:00<?, ?it/s]"
      ]
     },
     "metadata": {},
     "output_type": "display_data"
    },
    {
     "name": "stdout",
     "output_type": "stream",
     "text": [
      "Epoch 20, Train Loss: 0.0037, Val Loss: 0.0055\n",
      "Training segmentation model...\n"
     ]
    },
    {
     "data": {
      "application/vnd.jupyter.widget-view+json": {
       "model_id": "427b93fdf3854a7fba9d48d0d44ce5d7",
       "version_major": 2,
       "version_minor": 0
      },
      "text/plain": [
       "Epoch 1/20:   0%|          | 0/184 [00:00<?, ?it/s]"
      ]
     },
     "metadata": {},
     "output_type": "display_data"
    },
    {
     "name": "stdout",
     "output_type": "stream",
     "text": [
      "Epoch 1, Train Loss: 0.7733, Val Loss: 0.6753\n",
      "Saved best segmentation model with validation loss: 0.6753\n"
     ]
    },
    {
     "data": {
      "application/vnd.jupyter.widget-view+json": {
       "model_id": "0e81e0402bd44a5ca7e959d2b03ae389",
       "version_major": 2,
       "version_minor": 0
      },
      "text/plain": [
       "Epoch 2/20:   0%|          | 0/184 [00:00<?, ?it/s]"
      ]
     },
     "metadata": {},
     "output_type": "display_data"
    },
    {
     "name": "stdout",
     "output_type": "stream",
     "text": [
      "Epoch 2, Train Loss: 0.6755, Val Loss: 0.5862\n",
      "Saved best segmentation model with validation loss: 0.5862\n"
     ]
    },
    {
     "data": {
      "application/vnd.jupyter.widget-view+json": {
       "model_id": "a48ceb4bc2f842b99ed08f02066b48bf",
       "version_major": 2,
       "version_minor": 0
      },
      "text/plain": [
       "Epoch 3/20:   0%|          | 0/184 [00:00<?, ?it/s]"
      ]
     },
     "metadata": {},
     "output_type": "display_data"
    },
    {
     "name": "stdout",
     "output_type": "stream",
     "text": [
      "Epoch 3, Train Loss: 0.6374, Val Loss: 0.5626\n",
      "Saved best segmentation model with validation loss: 0.5626\n"
     ]
    },
    {
     "data": {
      "application/vnd.jupyter.widget-view+json": {
       "model_id": "d0cf158a025447c5813b5fd59cc323cf",
       "version_major": 2,
       "version_minor": 0
      },
      "text/plain": [
       "Epoch 4/20:   0%|          | 0/184 [00:00<?, ?it/s]"
      ]
     },
     "metadata": {},
     "output_type": "display_data"
    },
    {
     "name": "stdout",
     "output_type": "stream",
     "text": [
      "Epoch 4, Train Loss: 0.6151, Val Loss: 0.5947\n"
     ]
    },
    {
     "data": {
      "application/vnd.jupyter.widget-view+json": {
       "model_id": "430f7553f4f8435b8b3fd66eceaad510",
       "version_major": 2,
       "version_minor": 0
      },
      "text/plain": [
       "Epoch 5/20:   0%|          | 0/184 [00:00<?, ?it/s]"
      ]
     },
     "metadata": {},
     "output_type": "display_data"
    },
    {
     "name": "stdout",
     "output_type": "stream",
     "text": [
      "Epoch 5, Train Loss: 0.5948, Val Loss: 0.5186\n",
      "Saved best segmentation model with validation loss: 0.5186\n"
     ]
    },
    {
     "data": {
      "application/vnd.jupyter.widget-view+json": {
       "model_id": "9ce3826de5bf4299b4818f9fa4c9a306",
       "version_major": 2,
       "version_minor": 0
      },
      "text/plain": [
       "Epoch 6/20:   0%|          | 0/184 [00:00<?, ?it/s]"
      ]
     },
     "metadata": {},
     "output_type": "display_data"
    },
    {
     "name": "stdout",
     "output_type": "stream",
     "text": [
      "Epoch 6, Train Loss: 0.5763, Val Loss: 0.5068\n",
      "Saved best segmentation model with validation loss: 0.5068\n"
     ]
    },
    {
     "data": {
      "application/vnd.jupyter.widget-view+json": {
       "model_id": "ad4188e7fafe4413963a625ea3bfac2f",
       "version_major": 2,
       "version_minor": 0
      },
      "text/plain": [
       "Epoch 7/20:   0%|          | 0/184 [00:00<?, ?it/s]"
      ]
     },
     "metadata": {},
     "output_type": "display_data"
    },
    {
     "name": "stdout",
     "output_type": "stream",
     "text": [
      "Epoch 7, Train Loss: 0.5581, Val Loss: 0.5046\n",
      "Saved best segmentation model with validation loss: 0.5046\n"
     ]
    },
    {
     "data": {
      "application/vnd.jupyter.widget-view+json": {
       "model_id": "e28da1d5b9ca40f8b7ba5b9c97690119",
       "version_major": 2,
       "version_minor": 0
      },
      "text/plain": [
       "Epoch 8/20:   0%|          | 0/184 [00:00<?, ?it/s]"
      ]
     },
     "metadata": {},
     "output_type": "display_data"
    },
    {
     "name": "stdout",
     "output_type": "stream",
     "text": [
      "Epoch 8, Train Loss: 0.5422, Val Loss: 0.6512\n"
     ]
    },
    {
     "data": {
      "application/vnd.jupyter.widget-view+json": {
       "model_id": "242f180bd4ed4d03b27a625b31489098",
       "version_major": 2,
       "version_minor": 0
      },
      "text/plain": [
       "Epoch 9/20:   0%|          | 0/184 [00:00<?, ?it/s]"
      ]
     },
     "metadata": {},
     "output_type": "display_data"
    },
    {
     "name": "stdout",
     "output_type": "stream",
     "text": [
      "Epoch 9, Train Loss: 0.5222, Val Loss: 0.5006\n",
      "Saved best segmentation model with validation loss: 0.5006\n"
     ]
    },
    {
     "data": {
      "application/vnd.jupyter.widget-view+json": {
       "model_id": "6315c3779e7c492cb15fcf9e031d024c",
       "version_major": 2,
       "version_minor": 0
      },
      "text/plain": [
       "Epoch 10/20:   0%|          | 0/184 [00:00<?, ?it/s]"
      ]
     },
     "metadata": {},
     "output_type": "display_data"
    },
    {
     "name": "stdout",
     "output_type": "stream",
     "text": [
      "Epoch 10, Train Loss: 0.5099, Val Loss: 0.4812\n",
      "Saved best segmentation model with validation loss: 0.4812\n"
     ]
    },
    {
     "data": {
      "application/vnd.jupyter.widget-view+json": {
       "model_id": "1c9d8f49cb0f4cc5aca3f30debd1ba1f",
       "version_major": 2,
       "version_minor": 0
      },
      "text/plain": [
       "Epoch 11/20:   0%|          | 0/184 [00:00<?, ?it/s]"
      ]
     },
     "metadata": {},
     "output_type": "display_data"
    },
    {
     "name": "stdout",
     "output_type": "stream",
     "text": [
      "Epoch 11, Train Loss: 0.4939, Val Loss: 0.5140\n"
     ]
    },
    {
     "data": {
      "application/vnd.jupyter.widget-view+json": {
       "model_id": "9c7d02db80ca4ee091a89e36c322d988",
       "version_major": 2,
       "version_minor": 0
      },
      "text/plain": [
       "Epoch 12/20:   0%|          | 0/184 [00:00<?, ?it/s]"
      ]
     },
     "metadata": {},
     "output_type": "display_data"
    },
    {
     "name": "stdout",
     "output_type": "stream",
     "text": [
      "Epoch 12, Train Loss: 0.4769, Val Loss: 0.5137\n"
     ]
    },
    {
     "data": {
      "application/vnd.jupyter.widget-view+json": {
       "model_id": "b86bbb06f1e94c0fb51b36988bcbf81d",
       "version_major": 2,
       "version_minor": 0
      },
      "text/plain": [
       "Epoch 13/20:   0%|          | 0/184 [00:00<?, ?it/s]"
      ]
     },
     "metadata": {},
     "output_type": "display_data"
    },
    {
     "name": "stdout",
     "output_type": "stream",
     "text": [
      "Epoch 13, Train Loss: 0.4629, Val Loss: 0.4759\n",
      "Saved best segmentation model with validation loss: 0.4759\n"
     ]
    },
    {
     "data": {
      "application/vnd.jupyter.widget-view+json": {
       "model_id": "dd6346f5218b4de0b8dde75193117629",
       "version_major": 2,
       "version_minor": 0
      },
      "text/plain": [
       "Epoch 14/20:   0%|          | 0/184 [00:00<?, ?it/s]"
      ]
     },
     "metadata": {},
     "output_type": "display_data"
    },
    {
     "name": "stdout",
     "output_type": "stream",
     "text": [
      "Epoch 14, Train Loss: 0.4491, Val Loss: 0.4874\n"
     ]
    },
    {
     "data": {
      "application/vnd.jupyter.widget-view+json": {
       "model_id": "9da52a02f9be4cf1a222589923075d53",
       "version_major": 2,
       "version_minor": 0
      },
      "text/plain": [
       "Epoch 15/20:   0%|          | 0/184 [00:00<?, ?it/s]"
      ]
     },
     "metadata": {},
     "output_type": "display_data"
    },
    {
     "name": "stdout",
     "output_type": "stream",
     "text": [
      "Epoch 15, Train Loss: 0.4326, Val Loss: 0.4925\n"
     ]
    },
    {
     "data": {
      "application/vnd.jupyter.widget-view+json": {
       "model_id": "74fc52caa7a04ace930649145d57164d",
       "version_major": 2,
       "version_minor": 0
      },
      "text/plain": [
       "Epoch 16/20:   0%|          | 0/184 [00:00<?, ?it/s]"
      ]
     },
     "metadata": {},
     "output_type": "display_data"
    },
    {
     "name": "stdout",
     "output_type": "stream",
     "text": [
      "Epoch 16, Train Loss: 0.4193, Val Loss: 0.4821\n"
     ]
    },
    {
     "data": {
      "application/vnd.jupyter.widget-view+json": {
       "model_id": "2a7ab99066e84a0b89cf0ff0b3057933",
       "version_major": 2,
       "version_minor": 0
      },
      "text/plain": [
       "Epoch 17/20:   0%|          | 0/184 [00:00<?, ?it/s]"
      ]
     },
     "metadata": {},
     "output_type": "display_data"
    },
    {
     "name": "stdout",
     "output_type": "stream",
     "text": [
      "Epoch 17, Train Loss: 0.4040, Val Loss: 0.4816\n"
     ]
    },
    {
     "data": {
      "application/vnd.jupyter.widget-view+json": {
       "model_id": "38f06a36058e4dc1ab4f00810e4430be",
       "version_major": 2,
       "version_minor": 0
      },
      "text/plain": [
       "Epoch 18/20:   0%|          | 0/184 [00:00<?, ?it/s]"
      ]
     },
     "metadata": {},
     "output_type": "display_data"
    },
    {
     "name": "stdout",
     "output_type": "stream",
     "text": [
      "Epoch 18, Train Loss: 0.3833, Val Loss: 0.5318\n"
     ]
    },
    {
     "data": {
      "application/vnd.jupyter.widget-view+json": {
       "model_id": "6d0c3bbbc9c7474eac57f6a9a2b1db44",
       "version_major": 2,
       "version_minor": 0
      },
      "text/plain": [
       "Epoch 19/20:   0%|          | 0/184 [00:00<?, ?it/s]"
      ]
     },
     "metadata": {},
     "output_type": "display_data"
    },
    {
     "name": "stdout",
     "output_type": "stream",
     "text": [
      "Epoch 19, Train Loss: 0.3728, Val Loss: 0.5163\n"
     ]
    },
    {
     "data": {
      "application/vnd.jupyter.widget-view+json": {
       "model_id": "1b08dcdb2e054d0da1eaddcb4361affe",
       "version_major": 2,
       "version_minor": 0
      },
      "text/plain": [
       "Epoch 20/20:   0%|          | 0/184 [00:00<?, ?it/s]"
      ]
     },
     "metadata": {},
     "output_type": "display_data"
    },
    {
     "name": "stdout",
     "output_type": "stream",
     "text": [
      "Epoch 20, Train Loss: 0.3549, Val Loss: 0.5241\n",
      "Validation set metrics:\n"
     ]
    },
    {
     "data": {
      "application/vnd.jupyter.widget-view+json": {
       "model_id": "acc790636f6345dc9701b2077eec5313",
       "version_major": 2,
       "version_minor": 0
      },
      "text/plain": [
       "Evaluating:   0%|          | 0/12 [00:00<?, ?it/s]"
      ]
     },
     "metadata": {},
     "output_type": "display_data"
    },
    {
     "name": "stdout",
     "output_type": "stream",
     "text": [
      "Class 'background': IoU=0.8581, Dice=0.9236\n",
      "Class 'cat': IoU=0.3878, Dice=0.5589\n",
      "Class 'dog': IoU=0.5292, Dice=0.6921\n",
      "Pixel Accuracy: 0.8298\n",
      "Mean IoU: 0.5917\n",
      "Mean Dice: 0.7249\n",
      "Test set metrics:\n"
     ]
    },
    {
     "data": {
      "application/vnd.jupyter.widget-view+json": {
       "model_id": "2fbef880286c48e8895fd7ea0bcf223f",
       "version_major": 2,
       "version_minor": 0
      },
      "text/plain": [
       "Evaluating:   0%|          | 0/58 [00:00<?, ?it/s]"
      ]
     },
     "metadata": {},
     "output_type": "display_data"
    },
    {
     "name": "stdout",
     "output_type": "stream",
     "text": [
      "Class 'background': IoU=0.8633, Dice=0.9266\n",
      "Class 'cat': IoU=0.3816, Dice=0.5524\n",
      "Class 'dog': IoU=0.5341, Dice=0.6963\n",
      "Pixel Accuracy: 0.8327\n",
      "Mean IoU: 0.5930\n",
      "Mean Dice: 0.7251\n"
     ]
    },
    {
     "data": {
      "text/plain": [
       "{'autoencoder_train_losses': [0.02115939881996778,\n",
       "  0.010025825844976403,\n",
       "  0.007524827140909822,\n",
       "  0.006704915522435761,\n",
       "  0.005942461498425869,\n",
       "  0.005423190254394127,\n",
       "  0.005206710271760012,\n",
       "  0.004931884422979277,\n",
       "  0.004771324931188365,\n",
       "  0.00462234168789228,\n",
       "  0.004434539468290851,\n",
       "  0.004362389702177809,\n",
       "  0.0043704573674957555,\n",
       "  0.004181280356335818,\n",
       "  0.004097800474087505,\n",
       "  0.004026359479884495,\n",
       "  0.003974206698805337,\n",
       "  0.003915906800260848,\n",
       "  0.0038000706041677167,\n",
       "  0.003735755027383161],\n",
       " 'autoencoder_val_losses': [0.013194807602659515,\n",
       "  0.009132530985643034,\n",
       "  0.008236515801399946,\n",
       "  0.007076620104034309,\n",
       "  0.006705280028931473,\n",
       "  0.005903860736314369,\n",
       "  0.006455715806425914,\n",
       "  0.005273522201763547,\n",
       "  0.005200724927303584,\n",
       "  0.005556776593236819,\n",
       "  0.00865994434317817,\n",
       "  0.0052635987572695895,\n",
       "  0.0049215042963624,\n",
       "  0.005026144643678614,\n",
       "  0.0051394685009575405,\n",
       "  0.004966403053992469,\n",
       "  0.004853115801739952,\n",
       "  0.0046295082682500715,\n",
       "  0.004343121535266223,\n",
       "  0.005511974328723939],\n",
       " 'best_autoencoder_val_loss': 0.004343121535266223,\n",
       " 'seg_train_losses': [0.7733258268107539,\n",
       "  0.675517596628355,\n",
       "  0.6373647159856298,\n",
       "  0.6151019500001617,\n",
       "  0.5948435839103616,\n",
       "  0.5763401972210925,\n",
       "  0.5580906097007834,\n",
       "  0.542192382980948,\n",
       "  0.5222293940251288,\n",
       "  0.509916431877924,\n",
       "  0.4938500737366469,\n",
       "  0.4769047578067883,\n",
       "  0.4629318446892759,\n",
       "  0.44908673348634137,\n",
       "  0.4325885520033214,\n",
       "  0.4192799289265405,\n",
       "  0.4040193010283553,\n",
       "  0.383305785610624,\n",
       "  0.372826653978099,\n",
       "  0.35494471292780794],\n",
       " 'seg_val_losses': [0.67526223089384,\n",
       "  0.5862072654392408,\n",
       "  0.5625823813935985,\n",
       "  0.5946745768837307,\n",
       "  0.5185586680536685,\n",
       "  0.5068239673324253,\n",
       "  0.5046017221782518,\n",
       "  0.651166672291963,\n",
       "  0.5006355410036833,\n",
       "  0.4811682079149329,\n",
       "  0.5140012632245603,\n",
       "  0.5136698860189189,\n",
       "  0.47589351949484454,\n",
       "  0.4874095618724823,\n",
       "  0.4925277440444283,\n",
       "  0.4821100545966107,\n",
       "  0.48155787328015204,\n",
       "  0.5317532795926799,\n",
       "  0.5162721639094145,\n",
       "  0.5241415215575177],\n",
       " 'best_seg_val_loss': 0.47589351949484454}"
      ]
     },
     "execution_count": 12,
     "metadata": {},
     "output_type": "execute_result"
    },
    {
     "data": {
      "image/png": "[encoded data removed]",
      "text/plain": [
       "<Figure size 1200x500 with 2 Axes>"
      ]
     },
     "metadata": {},
     "output_type": "display_data"
    }
   ],
   "source": [
    "train_pipeline(\n",
    "    train_loader, val_loader, test_loader,\n",
    "    device, \"runs/autoencoder/augmented_weighted_20epochs\",\n",
    "    autoencoder_epochs=20,\n",
    "    segmentation_epochs=20\n",
    ")"
   ]
  },
  {
   "cell_type": "code",
   "execution_count": null,
   "metadata": {},
   "outputs": [],
   "source": []
  }
 ],
 "metadata": {
  "kernelspec": {
   "display_name": "Python 3.12.8 ('cv')",
   "language": "python",
   "name": "python3"
  },
  "language_info": {
   "codemirror_mode": {
    "name": "ipython",
    "version": 3
   },
   "file_extension": ".py",
   "mimetype": "text/x-python",
   "name": "python",
   "nbconvert_exporter": "python",
   "pygments_lexer": "ipython3",
   "version": "3.12.8"
  },
  "orig_nbformat": 4,
  "vscode": {
   "interpreter": {
    "hash": "9294812a040d6b5bcc3bb527cc1a29c430b5ba8fd136c6beb339cece843bd863"
   }
  }
 },
 "nbformat": 4,
 "nbformat_minor": 2
}
